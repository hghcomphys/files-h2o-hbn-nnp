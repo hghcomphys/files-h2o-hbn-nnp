{
 "cells": [
  {
   "cell_type": "code",
   "execution_count": 1,
   "metadata": {},
   "outputs": [],
   "source": [
    "import atl\n",
    "import atl.rdf_fort \n",
    "\n",
    "import numpy as np\n",
    "import matplotlib.pylab as plt"
   ]
  },
  {
   "cell_type": "code",
   "execution_count": 2,
   "metadata": {},
   "outputs": [],
   "source": [
    "# without PBC\n",
    "# atl.calculate_rdf(file_name='dump.xyz', sel_type=['2', '1'], pbc_box=[0, 0, 0], r_cutoff=9)\n",
    "\n",
    "# PBC\n",
    "atl.calculate_rdf(file_name='dump.xyz', \n",
    "                  sel_type=['4', '4'], \n",
    "                  pbc_box=[15.162564, 13.092397, 16.160464], \n",
    "                  r_cutoff=9,\n",
    "                 lateral=False)"
   ]
  },
  {
   "cell_type": "code",
   "execution_count": 3,
   "metadata": {},
   "outputs": [
    {
     "data": {
      "text/plain": [
       "Text(0.5, 0, 'r ($\\\\AA$)')"
      ]
     },
     "execution_count": 3,
     "metadata": {},
     "output_type": "execute_result"
    },
    {
     "data": {
      "image/png": "[encoded data removed]",
      "text/plain": [
       "<Figure size 432x288 with 1 Axes>"
      ]
     },
     "metadata": {
      "needs_background": "light"
     },
     "output_type": "display_data"
    }
   ],
   "source": [
    "gr = np.loadtxt('gr.dat')\n",
    "# print(gr)\n",
    "plt.plot(gr[:,0], gr[:,1])\n",
    "\n",
    "plt.ylabel('g(r)')\n",
    "plt.xlabel(r'r ($\\AA$)')"
   ]
  },
  {
   "cell_type": "code",
   "execution_count": null,
   "metadata": {},
   "outputs": [],
   "source": []
  }
 ],
 "metadata": {
  "kernelspec": {
   "display_name": "Python 3",
   "language": "python",
   "name": "python3"
  },
  "language_info": {
   "codemirror_mode": {
    "name": "ipython",
    "version": 3
   },
   "file_extension": ".py",
   "mimetype": "text/x-python",
   "name": "python",
   "nbconvert_exporter": "python",
   "pygments_lexer": "ipython3",
   "version": "3.7.3"
  }
 },
 "nbformat": 4,
 "nbformat_minor": 2
}
