{
 "cells": [
  {
   "cell_type": "markdown",
   "metadata": {},
   "source": [
    "# water-hBN-structure-generator"
   ]
  },
  {
   "cell_type": "code",
   "execution_count": 2,
   "metadata": {},
   "outputs": [],
   "source": [
    "import numpy as np\n",
    "import matplotlib.pylab as plt\n",
    "%matplotlib inline"
   ]
  },
  {
   "cell_type": "markdown",
   "metadata": {},
   "source": [
    "### make water-hBN structure"
   ]
  },
  {
   "cell_type": "code",
   "execution_count": 47,
   "metadata": {},
   "outputs": [
    {
     "name": "stdout",
     "output_type": "stream",
     "text": [
      "number of water: 358\n",
      "number of atoms in mono-layer hBN: 72\n",
      "number of selected water: 31\n",
      "total number of atoms: 165\n"
     ]
    }
   ],
   "source": [
    "dis = 11.37 # 20vmd\n",
    "spc = 2.0\n",
    "L = [[0.0, 15.0], [0.0, 13.0], [0.0, dis]]\n",
    "\n",
    "wat = np.loadtxt(\"bulkw.xyz\", skiprows=2, usecols=(1,2,3))\n",
    "print (\"number of water:\", int(len(wat)/3))\n",
    "\n",
    "hbn = np.loadtxt(\"hbn.xyz\", skiprows=2, usecols=(1,2,3))\n",
    "print (\"number of atoms in mono-layer hBN:\", len(hbn))\n",
    "    \n",
    "sub = []\n",
    "for i in range(len(hbn)):\n",
    "    sub.append( hbn[i,:] )\n",
    "#     sub.append( hbn[i,:] + np.array([0,0,dis]) )\n",
    "nsub = len(sub)\n",
    "    \n",
    "sol = []\n",
    "for i in range(0, len(wat/3), 3):\n",
    "    if (wat[i,0] > L[0][0]+spc/2) and (wat[i,0] < L[0][1]-spc/2):\n",
    "        if (wat[i,1] > L[1][0]+spc/2) and (wat[i,1] < L[1][1]-spc/2):\n",
    "            if (wat[i,2] > L[2][0]+spc) and (wat[i,2] < L[2][1]-spc):\n",
    "                for j in range(3):\n",
    "                    sol.append( wat[i+j,:] )\n",
    "nsol = len(sol)\n",
    "print (\"number of selected water:\", int(nsol/3))\n",
    "\n",
    "print (\"total number of atoms:\", nsub+nsol)"
   ]
  },
  {
   "cell_type": "markdown",
   "metadata": {},
   "source": [
    "### save to .xyz"
   ]
  },
  {
   "cell_type": "code",
   "execution_count": 48,
   "metadata": {},
   "outputs": [],
   "source": [
    "# only water\n",
    "ofile = open(\"selw.xyz\", 'w')\n",
    "ofile.write(\"%d\\n\"%(nsol))\n",
    "ofile.write(\"\\n\")\n",
    "# solution\n",
    "for i in range(0, nsol, 3):\n",
    "    for j in range(3):\n",
    "        ofile.write(\"%s  %10.5f %10.5f %10.5f\\n\"%(['O', 'H', 'H'][j], sol[i+j][0], sol[i+j][1], sol[i+j][2]))\n",
    "ofile.close()\n",
    "\n",
    "# water-substrate\n",
    "ofile = open(\"w-hbn.xyz\", 'w')\n",
    "ofile.write(\"%d\\n\"%(nsub+nsol))\n",
    "ofile.write(\"\\n\")\n",
    "# substrate\n",
    "for i in range(0, nsub):\n",
    "        ofile.write(\"%s  %10.5f %10.5f %10.5f\\n\"%(['B', 'N'][i%2], sub[i][0], sub[i][1], sub[i][2]))\n",
    "# solution\n",
    "for i in range(0, nsol, 3):\n",
    "    for j in range(3):\n",
    "        ofile.write(\"%s  %10.5f %10.5f %10.5f\\n\"%(['O', 'H', 'H'][j], sol[i+j][0], sol[i+j][1], sol[i+j][2]))\n",
    "ofile.close()"
   ]
  },
  {
   "cell_type": "markdown",
   "metadata": {},
   "source": [
    "### save to .lmp"
   ]
  },
  {
   "cell_type": "code",
   "execution_count": 49,
   "metadata": {},
   "outputs": [
    {
     "data": {
      "text/plain": [
       "0"
      ]
     },
     "execution_count": 49,
     "metadata": {},
     "output_type": "execute_result"
    }
   ],
   "source": [
    "ofile = open(\"w-hbn.lmp\", 'w')\n",
    "ofile.write(\"\\n%d atoms\\n4 atom types\"%(nsub+nsol))\n",
    "ofile.write(\"\\n%d bonds\\n1 bond types\"%(nsol/3*2))\n",
    "ofile.write(\"\\n%d angles\\n1 angle types\"%(nsol/3))\n",
    "ofile.write(\"\\n%f %f xlo xhi\\n\"%(L[0][0], L[0][1]))\n",
    "ofile.write(\"%f %f ylo yhi\\n\"%(L[1][0], L[1][1]))\n",
    "ofile.write(\"%f %f zlo zhi\\n\"%(L[2][0], L[2][1]))\n",
    "ofile.write(\"\\nAtoms\\n\\n\")\n",
    "aid = 0; mid = 1\n",
    "# substrate\n",
    "for i in range(0, nsub):\n",
    "        aid += 1\n",
    "        ofile.write(\"%3d %2d %2s  0.00 %10.5f %10.5f %10.5f\\n\"%(aid, mid, ['2', '3'][i%2], sub[i][0], sub[i][1], sub[i][2]))\n",
    "# solution\n",
    "for i in range(0, nsol, 3):\n",
    "    mid +=1\n",
    "    for j in range(3):\n",
    "        aid += 1\n",
    "        ofile.write(\"%3d %2d %2s  0.00 %10.5f %10.5f %10.5f\\n\"%(aid, mid, ['4', '1', '1'][j], sol[i+j][0], sol[i+j][1], sol[i+j][2]))\n",
    "ofile.close()\n",
    "\n",
    "# add bonds and angles\n",
    "import os\n",
    "os.system(\"python atl.xyz-to-tip3p.py selw.xyz O H %d\"%nsub)\n",
    "os.system(\"cat w-hbn.lmp tip3p.dat > w-hbn.lmp.full\")\n"
   ]
  },
  {
   "cell_type": "code",
   "execution_count": null,
   "metadata": {},
   "outputs": [],
   "source": []
  }
 ],
 "metadata": {
  "kernelspec": {
   "display_name": "Python 3",
   "language": "python",
   "name": "python3"
  },
  "language_info": {
   "codemirror_mode": {
    "name": "ipython",
    "version": 3
   },
   "file_extension": ".py",
   "mimetype": "text/x-python",
   "name": "python",
   "nbconvert_exporter": "python",
   "pygments_lexer": "ipython3",
   "version": "3.7.3"
  }
 },
 "nbformat": 4,
 "nbformat_minor": 2
}
